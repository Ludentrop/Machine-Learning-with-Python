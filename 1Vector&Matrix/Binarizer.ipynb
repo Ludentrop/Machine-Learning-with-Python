{
 "cells": [
  {
   "cell_type": "code",
   "execution_count": 21,
   "metadata": {
    "executionInfo": {
     "elapsed": 298,
     "status": "ok",
     "timestamp": 1693123114794,
     "user": {
      "displayName": "Батик Г",
      "userId": "10054372594594562503"
     },
     "user_tz": -180
    },
    "id": "JJnOOq--4ZV9"
   },
   "outputs": [],
   "source": [
    "import numpy as np\n",
    "from sklearn import preprocessing"
   ]
  },
  {
   "cell_type": "markdown",
   "metadata": {
    "id": "6YY6TA1953n6"
   },
   "source": [
    "Дан числовой признак, и требуется разбить его на дискретные корзины."
   ]
  },
  {
   "cell_type": "code",
   "execution_count": 22,
   "metadata": {
    "colab": {
     "base_uri": "https://localhost:8080/"
    },
    "executionInfo": {
     "elapsed": 6,
     "status": "ok",
     "timestamp": 1693123115234,
     "user": {
      "displayName": "Батик Г",
      "userId": "10054372594594562503"
     },
     "user_tz": -180
    },
    "id": "AkMHvmnW4i1d",
    "outputId": "77930bc5-3113-48f1-b120-63f58170bf0c"
   },
   "outputs": [
    {
     "data": {
      "text/plain": [
       "array([[0],\n",
       "       [0],\n",
       "       [1],\n",
       "       [1],\n",
       "       [1]])"
      ]
     },
     "execution_count": 22,
     "metadata": {},
     "output_type": "execute_result"
    }
   ],
   "source": [
    "age = np.array([\n",
    "    [6],\n",
    "    [12],\n",
    "    [20],\n",
    "    [36],\n",
    "    [65]\n",
    "])\n",
    "\n",
    "# Creating the binarizer\n",
    "binarizer = preprocessing.Binarizer(threshold=18)\n",
    "\n",
    "# Transform the feature\n",
    "binarizer.fit_transform(age)  # = np.digitize(age, bins=[18])"
   ]
  },
  {
   "cell_type": "code",
   "execution_count": 23,
   "metadata": {
    "colab": {
     "base_uri": "https://localhost:8080/"
    },
    "executionInfo": {
     "elapsed": 4,
     "status": "ok",
     "timestamp": 1693123115235,
     "user": {
      "displayName": "Батик Г",
      "userId": "10054372594594562503"
     },
     "user_tz": -180
    },
    "id": "_2TjtV3d-bXc",
    "outputId": "29f47968-6be6-45d6-df8b-4e0fb0535d2f"
   },
   "outputs": [
    {
     "data": {
      "text/plain": [
       "array([[0],\n",
       "       [0],\n",
       "       [1],\n",
       "       [2],\n",
       "       [3]])"
      ]
     },
     "execution_count": 23,
     "metadata": {},
     "output_type": "execute_result"
    }
   ],
   "source": [
    "np.digitize(age, bins=[20, 30, 64])"
   ]
  },
  {
   "cell_type": "code",
   "execution_count": 24,
   "metadata": {
    "colab": {
     "base_uri": "https://localhost:8080/"
    },
    "executionInfo": {
     "elapsed": 3,
     "status": "ok",
     "timestamp": 1693123115235,
     "user": {
      "displayName": "Батик Г",
      "userId": "10054372594594562503"
     },
     "user_tz": -180
    },
    "id": "1bX8cS9d-3NB",
    "outputId": "d34c38b8-14a1-4a5a-80fd-4f05db8602a4"
   },
   "outputs": [
    {
     "data": {
      "text/plain": [
       "array([[0],\n",
       "       [0],\n",
       "       [0],\n",
       "       [2],\n",
       "       [3]])"
      ]
     },
     "execution_count": 24,
     "metadata": {},
     "output_type": "execute_result"
    }
   ],
   "source": [
    "np.digitize(age, bins=[20, 30, 64], right=True)"
   ]
  }
 ],
 "metadata": {
  "colab": {
   "authorship_tag": "ABX9TyO+Jy2X2hOqqcLw6RenpAiT",
   "provenance": []
  },
  "kernelspec": {
   "display_name": "Python 3 (ipykernel)",
   "language": "python",
   "name": "python3"
  },
  "language_info": {
   "codemirror_mode": {
    "name": "ipython",
    "version": 3
   },
   "file_extension": ".py",
   "mimetype": "text/x-python",
   "name": "python",
   "nbconvert_exporter": "python",
   "pygments_lexer": "ipython3",
   "version": "3.12.1"
  }
 },
 "nbformat": 4,
 "nbformat_minor": 4
}
