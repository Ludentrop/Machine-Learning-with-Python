{
 "cells": [
  {
   "cell_type": "code",
   "execution_count": 1,
   "id": "24cbc8f3-851c-44ac-9254-6598dd6ae3b7",
   "metadata": {},
   "outputs": [],
   "source": [
    "import pandas as pd\n",
    "from sqlalchemy import create_engine"
   ]
  },
  {
   "cell_type": "code",
   "execution_count": 3,
   "id": "7c00232e-5e91-480e-9f61-f9d6d48171f0",
   "metadata": {},
   "outputs": [],
   "source": [
    "db_connect = create_engine('sqlite:///JProjects/vma/data/sample.db')"
   ]
  },
  {
   "cell_type": "code",
   "execution_count": null,
   "id": "0f90f8de-78fa-47d8-bd93-83ed1e9ca551",
   "metadata": {},
   "outputs": [],
   "source": [
    "df = pd.read_sql_query('SELECT * FROM data', db_connect) # doesn't work the shit!"
   ]
  },
  {
   "cell_type": "code",
   "execution_count": null,
   "id": "0dd51448-ce68-4f62-9cec-7a5f7f14e159",
   "metadata": {},
   "outputs": [],
   "source": [
    "df.head()"
   ]
  }
 ],
 "metadata": {
  "kernelspec": {
   "display_name": "Python 3 (ipykernel)",
   "language": "python",
   "name": "python3"
  },
  "language_info": {
   "codemirror_mode": {
    "name": "ipython",
    "version": 3
   },
   "file_extension": ".py",
   "mimetype": "text/x-python",
   "name": "python",
   "nbconvert_exporter": "python",
   "pygments_lexer": "ipython3",
   "version": "3.12.1"
  }
 },
 "nbformat": 4,
 "nbformat_minor": 5
}
